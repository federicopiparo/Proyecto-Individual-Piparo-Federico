{
 "cells": [
  {
   "cell_type": "markdown",
   "metadata": {},
   "source": [
    "\n",
    "---\n",
    "\n",
    "# Transformaciones\n",
    "---\n"
   ]
  },
  {
   "cell_type": "code",
   "execution_count": 1,
   "metadata": {},
   "outputs": [],
   "source": [
    "import pandas as pd\n",
    "import ast\n",
    "df = pd.read_csv('C:\\\\Users\\\\fede\\\\Desktop\\\\LABs 1\\\\Proyecto individual - Federico Piparo\\\\Movies\\\\movies_dataset.csv', low_memory=False)"
   ]
  },
  {
   "cell_type": "code",
   "execution_count": 2,
   "metadata": {},
   "outputs": [
    {
     "name": "stdout",
     "output_type": "stream",
     "text": [
      "       adult                              belongs_to_collection    budget  \\\n",
      "0      False  {'id': 10194, 'name': 'Toy Story Collection', ...  30000000   \n",
      "1      False                                                NaN  65000000   \n",
      "2      False  {'id': 119050, 'name': 'Grumpy Old Men Collect...         0   \n",
      "3      False                                                NaN  16000000   \n",
      "4      False  {'id': 96871, 'name': 'Father of the Bride Col...         0   \n",
      "...      ...                                                ...       ...   \n",
      "45461  False                                                NaN         0   \n",
      "45462  False                                                NaN         0   \n",
      "45463  False                                                NaN         0   \n",
      "45464  False                                                NaN         0   \n",
      "45465  False                                                NaN         0   \n",
      "\n",
      "                                                  genres  \\\n",
      "0      [{'id': 16, 'name': 'Animation'}, {'id': 35, '...   \n",
      "1      [{'id': 12, 'name': 'Adventure'}, {'id': 14, '...   \n",
      "2      [{'id': 10749, 'name': 'Romance'}, {'id': 35, ...   \n",
      "3      [{'id': 35, 'name': 'Comedy'}, {'id': 18, 'nam...   \n",
      "4                         [{'id': 35, 'name': 'Comedy'}]   \n",
      "...                                                  ...   \n",
      "45461  [{'id': 18, 'name': 'Drama'}, {'id': 10751, 'n...   \n",
      "45462                      [{'id': 18, 'name': 'Drama'}]   \n",
      "45463  [{'id': 28, 'name': 'Action'}, {'id': 18, 'nam...   \n",
      "45464                                                 []   \n",
      "45465                                                 []   \n",
      "\n",
      "                                   homepage      id    imdb_id  \\\n",
      "0      http://toystory.disney.com/toy-story     862  tt0114709   \n",
      "1                                       NaN    8844  tt0113497   \n",
      "2                                       NaN   15602  tt0113228   \n",
      "3                                       NaN   31357  tt0114885   \n",
      "4                                       NaN   11862  tt0113041   \n",
      "...                                     ...     ...        ...   \n",
      "45461  http://www.imdb.com/title/tt6209470/  439050  tt6209470   \n",
      "45462                                   NaN  111109  tt2028550   \n",
      "45463                                   NaN   67758  tt0303758   \n",
      "45464                                   NaN  227506  tt0008536   \n",
      "45465                                   NaN  461257  tt6980792   \n",
      "\n",
      "      original_language               original_title  \\\n",
      "0                    en                    Toy Story   \n",
      "1                    en                      Jumanji   \n",
      "2                    en             Grumpier Old Men   \n",
      "3                    en            Waiting to Exhale   \n",
      "4                    en  Father of the Bride Part II   \n",
      "...                 ...                          ...   \n",
      "45461                fa                      رگ خواب   \n",
      "45462                tl          Siglo ng Pagluluwal   \n",
      "45463                en                     Betrayal   \n",
      "45464                en          Satana likuyushchiy   \n",
      "45465                en                     Queerama   \n",
      "\n",
      "                                                overview  ... release_date  \\\n",
      "0      Led by Woody, Andy's toys live happily in his ...  ...   1995-10-30   \n",
      "1      When siblings Judy and Peter discover an encha...  ...   1995-12-15   \n",
      "2      A family wedding reignites the ancient feud be...  ...   1995-12-22   \n",
      "3      Cheated on, mistreated and stepped on, the wom...  ...   1995-12-22   \n",
      "4      Just when George Banks has recovered from his ...  ...   1995-02-10   \n",
      "...                                                  ...  ...          ...   \n",
      "45461        Rising and falling between a man and woman.  ...          NaN   \n",
      "45462  An artist struggles to finish his work while a...  ...   2011-11-17   \n",
      "45463  When one of her hits goes wrong, a professiona...  ...   2003-08-01   \n",
      "45464  In a small town live two brothers, one a minis...  ...   1917-10-21   \n",
      "45465  50 years after decriminalisation of homosexual...  ...   2017-06-09   \n",
      "\n",
      "           revenue runtime                                   spoken_languages  \\\n",
      "0      373554033.0    81.0           [{'iso_639_1': 'en', 'name': 'English'}]   \n",
      "1      262797249.0   104.0  [{'iso_639_1': 'en', 'name': 'English'}, {'iso...   \n",
      "2              0.0   101.0           [{'iso_639_1': 'en', 'name': 'English'}]   \n",
      "3       81452156.0   127.0           [{'iso_639_1': 'en', 'name': 'English'}]   \n",
      "4       76578911.0   106.0           [{'iso_639_1': 'en', 'name': 'English'}]   \n",
      "...            ...     ...                                                ...   \n",
      "45461          0.0    90.0             [{'iso_639_1': 'fa', 'name': 'فارسی'}]   \n",
      "45462          0.0   360.0                  [{'iso_639_1': 'tl', 'name': ''}]   \n",
      "45463          0.0    90.0           [{'iso_639_1': 'en', 'name': 'English'}]   \n",
      "45464          0.0    87.0                                                 []   \n",
      "45465          0.0    75.0           [{'iso_639_1': 'en', 'name': 'English'}]   \n",
      "\n",
      "         status                                            tagline  \\\n",
      "0      Released                                                NaN   \n",
      "1      Released          Roll the dice and unleash the excitement!   \n",
      "2      Released  Still Yelling. Still Fighting. Still Ready for...   \n",
      "3      Released  Friends are the people who let you be yourself...   \n",
      "4      Released  Just When His World Is Back To Normal... He's ...   \n",
      "...         ...                                                ...   \n",
      "45461  Released         Rising and falling between a man and woman   \n",
      "45462  Released                                                NaN   \n",
      "45463  Released                             A deadly game of wits.   \n",
      "45464  Released                                                NaN   \n",
      "45465  Released                                                NaN   \n",
      "\n",
      "                             title  video vote_average vote_count  \n",
      "0                        Toy Story  False          7.7     5415.0  \n",
      "1                          Jumanji  False          6.9     2413.0  \n",
      "2                 Grumpier Old Men  False          6.5       92.0  \n",
      "3                Waiting to Exhale  False          6.1       34.0  \n",
      "4      Father of the Bride Part II  False          5.7      173.0  \n",
      "...                            ...    ...          ...        ...  \n",
      "45461                       Subdue  False          4.0        1.0  \n",
      "45462          Century of Birthing  False          9.0        3.0  \n",
      "45463                     Betrayal  False          3.8        6.0  \n",
      "45464             Satan Triumphant  False          0.0        0.0  \n",
      "45465                     Queerama  False          0.0        0.0  \n",
      "\n",
      "[45449 rows x 24 columns]\n",
      "Número de filas duplicadas eliminadas: 17\n"
     ]
    }
   ],
   "source": [
    "# Contar el número de filas duplicadas\n",
    "duplicados = df.duplicated().sum()\n",
    "\n",
    "# Eliminar filas duplicadas\n",
    "df_sin_duplicados = df.drop_duplicates()\n",
    "\n",
    "# Almacenar el número de filas duplicadas en una variable\n",
    "numero_de_duplicados = duplicados\n",
    "\n",
    "# Mostrar el DataFrame sin duplicados\n",
    "print(df_sin_duplicados)\n",
    "print(\"Número de filas duplicadas eliminadas:\", numero_de_duplicados)\n"
   ]
  },
  {
   "cell_type": "code",
   "execution_count": 55,
   "metadata": {},
   "outputs": [],
   "source": [
    "\n",
    "'''Eliminar las columnas que no serán utilizadas, video,imdb_id,adult,original_title,poster_path y homepage.'''\n",
    "df = df.drop(columns=['video', 'imdb_id', 'adult', 'original_title', 'poster_path', 'homepage'])\n"
   ]
  },
  {
   "cell_type": "code",
   "execution_count": 56,
   "metadata": {},
   "outputs": [],
   "source": [
    "'''Los valores nulos del campo release date deben eliminarse.'''\n",
    "\n",
    "df = df.dropna(subset=['release_date'])"
   ]
  },
  {
   "cell_type": "code",
   "execution_count": 57,
   "metadata": {},
   "outputs": [],
   "source": [
    "'''Los valores nulos de los campos revenue, budget deben ser rellenados por el número 0.'''\n",
    "\n",
    "df[['revenue', 'budget']] = df[['revenue', 'budget']].fillna(0)"
   ]
  },
  {
   "cell_type": "code",
   "execution_count": 58,
   "metadata": {},
   "outputs": [],
   "source": [
    "'''De haber fechas, deberán tener el formato AAAA-mm-dd, además deberán crear la columna release_year donde extraerán el año de la fecha de estreno.'''\n",
    "\n",
    "#convertimos las fechas al datatype datetime\n",
    "df['release_date'] = pd.to_datetime(df['release_date'], errors='coerce') \n",
    "df['release_year'] = df['release_date'].dt.year"
   ]
  },
  {
   "cell_type": "code",
   "execution_count": 59,
   "metadata": {},
   "outputs": [],
   "source": [
    "'''Crear la columna con el retorno de inversión, llamada return con los campos revenue y budget, dividiendo estas dos últimas revenue / budget,\n",
    "cuando no hay datos disponibles para calcularlo, deberá tomar el valor 0.'''\n",
    "# Convertir las columnas 'revenue' y 'budget' a tipo numérico\n",
    "df['revenue'] = pd.to_numeric(df['revenue'], errors='coerce')\n",
    "df['budget'] = pd.to_numeric(df['budget'], errors='coerce')\n",
    "# Rellenar valores nulos en 'revenue' y 'budget' con 0\n",
    "df['revenue'] = df['revenue'].fillna(0)\n",
    "df['budget'] = df['budget'].fillna(0)\n",
    "\n",
    "# Crear la columna 'return' calculando revenue / budget\n",
    "# Usar np.where para evitar división por 0\n",
    "import numpy as np\n",
    "df['return'] = np.where(df['budget'] == 0, 0, df['revenue'] / df['budget'])"
   ]
  },
  {
   "cell_type": "code",
   "execution_count": 60,
   "metadata": {},
   "outputs": [
    {
     "data": {
      "text/plain": [
       "0    12.451801\n",
       "1     4.043035\n",
       "2     0.000000\n",
       "3     5.090760\n",
       "4     0.000000\n",
       "Name: return, dtype: float64"
      ]
     },
     "execution_count": 60,
     "metadata": {},
     "output_type": "execute_result"
    }
   ],
   "source": [
    "df['return'].head(5)"
   ]
  },
  {
   "cell_type": "code",
   "execution_count": 61,
   "metadata": {},
   "outputs": [
    {
     "name": "stderr",
     "output_type": "stream",
     "text": [
      "C:\\Users\\fede\\AppData\\Local\\Temp\\ipykernel_11164\\1652706673.py:21: FutureWarning: Returning a DataFrame from Series.apply when the supplied function returns a Series is deprecated and will be removed in a future version.\n",
      "  BTC_df = df['belongs_to_collection'].apply(pd.Series)\n",
      "C:\\Users\\fede\\AppData\\Local\\Temp\\ipykernel_11164\\1652706673.py:27: FutureWarning: Returning a DataFrame from Series.apply when the supplied function returns a Series is deprecated and will be removed in a future version.\n",
      "  genres_df = df['genres'].apply(pd.Series)\n",
      "C:\\Users\\fede\\AppData\\Local\\Temp\\ipykernel_11164\\1652706673.py:28: FutureWarning: Returning a DataFrame from Series.apply when the supplied function returns a Series is deprecated and will be removed in a future version.\n",
      "  production_companies_df = df['production_companies'].apply(pd.Series)\n",
      "C:\\Users\\fede\\AppData\\Local\\Temp\\ipykernel_11164\\1652706673.py:29: FutureWarning: Returning a DataFrame from Series.apply when the supplied function returns a Series is deprecated and will be removed in a future version.\n",
      "  production_countries_df = df['production_countries'].apply(pd.Series)\n",
      "C:\\Users\\fede\\AppData\\Local\\Temp\\ipykernel_11164\\1652706673.py:30: FutureWarning: Returning a DataFrame from Series.apply when the supplied function returns a Series is deprecated and will be removed in a future version.\n",
      "  spoken_languages_df = df['spoken_languages'].apply(pd.Series)\n"
     ]
    }
   ],
   "source": [
    "''' Algunos campos, como belongs_to_collection, production_companies y otros (ver diccionario de datos) están anidados, esto es o bien tienen un diccionario o una\n",
    "lista como valores en cada fila, ¡deberán desanidarlos para poder y unirlos al dataset de nuevo hacer alguna de las consultas de la API!\n",
    "O bien buscar la manera de acceder a esos datos sin desanidarlos.'''\n",
    "# Función para convertir cadenas a diccionarios o listas\n",
    "def convertir_en_obj(x):\n",
    "    if isinstance(x, str):\n",
    "        try:\n",
    "            return ast.literal_eval(x)\n",
    "        except (ValueError, SyntaxError):\n",
    "            return x  # Retorna la cadena si no es un diccionario válido\n",
    "    return x\n",
    "\n",
    "# Aplicar la conversión a las series \n",
    "df['belongs_to_collection'] = df['belongs_to_collection'].apply(convertir_en_obj)\n",
    "df['genres'] = df['genres'].apply(convertir_en_obj)\n",
    "df['production_companies'] = df['production_companies'].apply(convertir_en_obj)\n",
    "df['production_countries'] = df['production_countries'].apply(convertir_en_obj)\n",
    "df['spoken_languages'] = df['spoken_languages'].apply(convertir_en_obj)\n",
    "\n",
    "# Desanidar diccionarios\n",
    "BTC_df = df['belongs_to_collection'].apply(pd.Series)\n",
    "BTC_df = BTC_df.drop(columns = 0, errors='ignore')  # Eliminar columna de índice si existe\n",
    "nuevos_nombres_BTC = ['BTCid', 'BTCname', 'BTCposter_path', 'BTCbackdrop_path']\n",
    "BTC_df.columns = nuevos_nombres_BTC\n",
    "\n",
    "# Desanidar listas\n",
    "genres_df = df['genres'].apply(pd.Series)\n",
    "production_companies_df = df['production_companies'].apply(pd.Series)\n",
    "production_countries_df = df['production_countries'].apply(pd.Series)\n",
    "spoken_languages_df = df['spoken_languages'].apply(pd.Series)\n",
    "\n",
    "# Asegurarse de que no haya nombres de columnas duplicados\n",
    "genres_df = genres_df.rename(columns=lambda x: f'genre_{x}')\n",
    "production_companies_df = production_companies_df.rename(columns=lambda x: f'company_{x}')\n",
    "production_countries_df = production_countries_df.rename(columns=lambda x: f'country_{x}')\n",
    "spoken_languages_df = spoken_languages_df.rename(columns=lambda x: f'language_{x}')\n",
    "\n",
    "# Eliminar las columnas originales\n",
    "df = df.drop(columns=['belongs_to_collection', 'genres', 'production_companies', 'production_countries', 'spoken_languages'])\n",
    "\n",
    "# Unir los DataFrames desanidado al DataFrame original\n",
    "df = df.join(BTC_df)\n",
    "df = df.join(production_companies_df)\n",
    "df = df.join(production_countries_df)\n",
    "df = df.join(spoken_languages_df)\n"
   ]
  },
  {
   "cell_type": "markdown",
   "metadata": {},
   "source": [
    "\n",
    "---\n",
    "\n",
    "### Exportación de los Datafames\n",
    "---\n"
   ]
  },
  {
   "cell_type": "code",
   "execution_count": 62,
   "metadata": {},
   "outputs": [],
   "source": [
    "df.to_csv('transformados.csv', index=False)\n"
   ]
  },
  {
   "cell_type": "code",
   "execution_count": 63,
   "metadata": {},
   "outputs": [],
   "source": [
    "BTC_df.to_csv('belongs_to_collection', index=False)"
   ]
  },
  {
   "cell_type": "code",
   "execution_count": 64,
   "metadata": {},
   "outputs": [
    {
     "data": {
      "text/plain": [
       "company_0               {'name': 'Fine Line Features', 'id': 8}\n",
       "company_1         {'name': 'Zentropa Entertainments', 'id': 76}\n",
       "company_2            {'name': 'Danmarks Radio (DR)', 'id': 119}\n",
       "company_3                      {'name': 'SVT Drama', 'id': 157}\n",
       "company_4                           {'name': 'Arte', 'id': 201}\n",
       "company_5                    {'name': 'Memfis Film', 'id': 321}\n",
       "company_6                {'name': 'France 3 Cinéma', 'id': 591}\n",
       "company_7                   {'name': 'Angel films', 'id': 2996}\n",
       "company_8                       {'name': 'TV 1000', 'id': 4524}\n",
       "company_9                        {'name': 'Canal+', 'id': 5358}\n",
       "company_10    {'name': 'Constantin Film Produktion', 'id': 5...\n",
       "company_11             {'name': 'Yleisradio (YLE)', 'id': 5975}\n",
       "company_12           {'name': 'Arte France Cinéma', 'id': 6916}\n",
       "company_13    {'name': 'Westdeutscher Rundfunk (WDR)', 'id':...\n",
       "company_14       {'name': 'Blind Spot Pictures Oy', 'id': 7330}\n",
       "company_15    {'name': 'Vrijzinnig Protestantse Radio Omroep...\n",
       "company_16                        {'name': 'Film4', 'id': 9349}\n",
       "company_17       {'name': 'Liberator Productions', 'id': 11239}\n",
       "company_18              {'name': 'Icelandic Film', 'id': 14937}\n",
       "company_19                 {'name': 'Film i Väst', 'id': 17513}\n",
       "company_20    {'name': 'Pain Unlimited GmbH Filmproduktion',...\n",
       "company_21          {'name': 'Trust Film Svenska', 'id': 53667}\n",
       "company_22           {'name': 'Cinematograph A/S', 'id': 53668}\n",
       "company_23              {'name': 'What Else? B.V', 'id': 53669}\n",
       "company_24                  {'name': 'Filmek A/S', 'id': 53670}\n",
       "company_25    {'name': 'Lantia Cinema & Audiovisivi', 'id': ...\n",
       "Name: 3786, dtype: object"
      ]
     },
     "execution_count": 64,
     "metadata": {},
     "output_type": "execute_result"
    }
   ],
   "source": [
    "production_companies_df.loc[3786]"
   ]
  }
 ],
 "metadata": {
  "kernelspec": {
   "display_name": "Python 3",
   "language": "python",
   "name": "python3"
  },
  "language_info": {
   "codemirror_mode": {
    "name": "ipython",
    "version": 3
   },
   "file_extension": ".py",
   "mimetype": "text/x-python",
   "name": "python",
   "nbconvert_exporter": "python",
   "pygments_lexer": "ipython3",
   "version": "3.11.5"
  }
 },
 "nbformat": 4,
 "nbformat_minor": 2
}
