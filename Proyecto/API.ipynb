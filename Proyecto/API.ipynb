{
 "cells": [
  {
   "cell_type": "markdown",
   "metadata": {},
   "source": [
    "\n",
    "---\n",
    "\n",
    "# API\n",
    "---\n"
   ]
  },
  {
   "cell_type": "code",
   "execution_count": 1,
   "metadata": {},
   "outputs": [
    {
     "name": "stderr",
     "output_type": "stream",
     "text": [
      "C:\\Users\\fede\\AppData\\Local\\Temp\\ipykernel_7996\\2001460970.py:4: DtypeWarning: Columns (1,4,36,37,38,39,40,41,42,43,44,53,54,55,56,57,58,59,60,61,62,63,64,65,66,67,68,69,77,78,79,80,81,82,83,84,85,86,87,88) have mixed types. Specify dtype option on import or set low_memory=False.\n",
      "  df = pd.read_csv(\"C:\\\\Users\\\\fede\\Desktop\\\\LABs 1\\\\Proyecto individual - Federico Piparo\\Proyecto\\\\transformados.csv\", delimiter=',', on_bad_lines='skip')\n"
     ]
    }
   ],
   "source": [
    "\n",
    "import pandas as pd\n",
    "\n",
    "# Intentar leer el archivo CSV con un delimitador específico y manejo de errores\n",
    "df = pd.read_csv(\"C:\\\\Users\\\\fede\\Desktop\\\\LABs 1\\\\Proyecto individual - Federico Piparo\\Proyecto\\\\transformados.csv\", delimiter=',', on_bad_lines='skip')\n"
   ]
  },
  {
   "cell_type": "code",
   "execution_count": 3,
   "metadata": {},
   "outputs": [
    {
     "name": "stdout",
     "output_type": "stream",
     "text": [
      "Mes 'dia' no es válido. Por favor ingresa un mes válido en español.\n"
     ]
    }
   ],
   "source": [
    "\n",
    "'''def cantidad_filmaciones_mes( Mes ): Se ingresa un mes en idioma Español.\n",
    "Debe devolver la cantidad de películas que fueron estrenadas en el mes consultado en la totalidad del dataset.'''\n",
    "\n",
    "def cantidad_filmaciones_mes(mes):\n",
    "    # Diccionario para mapear los nombres de los meses en español a números de mes\n",
    "    meses = {\n",
    "        \"enero\": 1,\n",
    "        \"febrero\": 2,\n",
    "        \"marzo\": 3,\n",
    "        \"abril\": 4,\n",
    "        \"mayo\": 5,\n",
    "        \"junio\": 6,\n",
    "        \"julio\": 7,\n",
    "        \"agosto\": 8,\n",
    "        \"septiembre\": 9,\n",
    "        \"octubre\": 10,\n",
    "        \"noviembre\": 11,\n",
    "        \"diciembre\": 12\n",
    "    }\n",
    "    \n",
    "    # Convertir la columna 'release_date' a tipo datetime si no lo está ya\n",
    "    if df['release_date'].dtype == 'O':\n",
    "        df['release_date'] = pd.to_datetime(df['release_date'], errors='coerce')\n",
    "    \n",
    "    # Filtrar el DataFrame por el mes dado\n",
    "    mes_numero = meses.get(mes.lower())\n",
    "    if mes_numero is None:\n",
    "        return f\"Mes '{mes}' no es válido. Por favor ingresa un mes válido en español.\"\n",
    "\n",
    "    peliculas_mes = df[df['release_date'].dt.month == mes_numero]\n",
    "\n",
    "    # Devolver la cantidad de películas\n",
    "    return len(peliculas_mes)\n",
    "\n",
    "# Ejemplo de uso\n",
    "print(cantidad_filmaciones_mes(\"dia\"))"
   ]
  },
  {
   "cell_type": "code",
   "execution_count": 9,
   "metadata": {},
   "outputs": [
    {
     "name": "stdout",
     "output_type": "stream",
     "text": [
      "Cantidad de películas estrenadas en el día lunes :            budget      id original_language  \\\n",
      "0      30000000.0     862                en   \n",
      "104           0.0   11907                de   \n",
      "110     7500000.0   33542                cn   \n",
      "242      700000.0   14275                en   \n",
      "369    40000000.0   11011                en   \n",
      "...           ...     ...               ...   \n",
      "45354         0.0   39562                en   \n",
      "45359         0.0   49277                en   \n",
      "45364         0.0   49280                fr   \n",
      "45365         0.0  106807                fr   \n",
      "45374         0.0   30840                en   \n",
      "\n",
      "                                                overview popularity  \\\n",
      "0      Led by Woody, Andy's toys live happily in his ...  21.946943   \n",
      "104                                   No overview found.   1.015068   \n",
      "110    Keong comes from Hong Kong to visit New York f...  12.314278   \n",
      "242    This documentary follows two inner-city Chicag...    9.47666   \n",
      "369    Billionaire heir Richie Rich has it all, inclu...   6.595255   \n",
      "...                                                  ...        ...   \n",
      "45354  Pretty, popular, and slim high-schooler Aly Sc...   0.767762   \n",
      "45359  A wall full of advertising posters comes to life.   0.148131   \n",
      "45364  A band-leader has arranged seven chairs for th...   1.109068   \n",
      "45365         A series of fantastical wrestling matches.   0.225432   \n",
      "45374  Yet another version of the classic epic, with ...   5.683753   \n",
      "\n",
      "      release_date      revenue  runtime    status  \\\n",
      "0       1995-10-30  373554033.0     81.0  Released   \n",
      "104     1994-11-07          0.0    104.0  Released   \n",
      "110     1995-01-30   32392047.0     91.0  Released   \n",
      "242     1994-09-12    7830611.0    171.0  Released   \n",
      "369     1994-12-19          0.0     95.0  Released   \n",
      "...            ...          ...      ...       ...   \n",
      "45354   2007-01-08          0.0     89.0  Released   \n",
      "45359   1906-01-01          0.0      3.0  Released   \n",
      "45364   1900-01-01          0.0      1.0  Released   \n",
      "45365   1900-01-01          0.0      2.0  Released   \n",
      "45374   1991-05-13          0.0    104.0  Released   \n",
      "\n",
      "                                                 tagline  ... language_9  \\\n",
      "0                                                    NaN  ...        NaN   \n",
      "104                                                  NaN  ...        NaN   \n",
      "110                      No Fear. No Stuntman. No Equal.  ...        NaN   \n",
      "242                         An Extraordinary True Story.  ...        NaN   \n",
      "369    An adventure so big... even the world's riches...  ...        NaN   \n",
      "...                                                  ...  ...        ...   \n",
      "45354                                                NaN  ...        NaN   \n",
      "45359                                                NaN  ...        NaN   \n",
      "45364                                                NaN  ...        NaN   \n",
      "45365                                                NaN  ...        NaN   \n",
      "45374                                                NaN  ...        NaN   \n",
      "\n",
      "       language_10  language_11  language_12  language_13  language_14  \\\n",
      "0              NaN          NaN          NaN          NaN          NaN   \n",
      "104            NaN          NaN          NaN          NaN          NaN   \n",
      "110            NaN          NaN          NaN          NaN          NaN   \n",
      "242            NaN          NaN          NaN          NaN          NaN   \n",
      "369            NaN          NaN          NaN          NaN          NaN   \n",
      "...            ...          ...          ...          ...          ...   \n",
      "45354          NaN          NaN          NaN          NaN          NaN   \n",
      "45359          NaN          NaN          NaN          NaN          NaN   \n",
      "45364          NaN          NaN          NaN          NaN          NaN   \n",
      "45365          NaN          NaN          NaN          NaN          NaN   \n",
      "45374          NaN          NaN          NaN          NaN          NaN   \n",
      "\n",
      "      language_15 language_16 language_17 language_18  \n",
      "0             NaN         NaN         NaN         NaN  \n",
      "104           NaN         NaN         NaN         NaN  \n",
      "110           NaN         NaN         NaN         NaN  \n",
      "242           NaN         NaN         NaN         NaN  \n",
      "369           NaN         NaN         NaN         NaN  \n",
      "...           ...         ...         ...         ...  \n",
      "45354         NaN         NaN         NaN         NaN  \n",
      "45359         NaN         NaN         NaN         NaN  \n",
      "45364         NaN         NaN         NaN         NaN  \n",
      "45365         NaN         NaN         NaN         NaN  \n",
      "45374         NaN         NaN         NaN         NaN  \n",
      "\n",
      "[3503 rows x 89 columns]\n"
     ]
    }
   ],
   "source": [
    "'''def cantidad_filmaciones_dia( Dia ): Se ingresa un día en idioma Español.\n",
    "Debe devolver la cantidad de películas que fueron estrenadas en día consultado en la totalidad del dataset.'''\n",
    "\n",
    "\n",
    "@app.get(\"/cantidad_filmaciones_dia\")\n",
    "def cantidad_filmaciones_dia(dia: str = Query(..., description=\"Día de la semana en español\")):\n",
    "    # Diccionario para mapear los nombres de los días en español a números de día\n",
    "    dias = {\n",
    "        \"lunes\": 0,\n",
    "        \"martes\": 1,\n",
    "        \"miércoles\": 2,\n",
    "        \"jueves\": 3,\n",
    "        \"viernes\": 4,\n",
    "        \"sábado\": 5,\n",
    "        \"domingo\": 6\n",
    "    }\n",
    "    \n",
    "    dia_numero = dias.get(dia.lower())\n",
    "    if dia_numero is None:\n",
    "        return {\"error\": f\"Día '{dia}' no es válido. Por favor ingresa un día válido en español.\"}\n",
    "\n",
    "    peliculas_dia = df[df['release_date'].dt.dayofweek == dia_numero]\n",
    "    \n",
    "    return {\"cantidad_de_peliculas\": len(peliculas_dia)}\n",
    "\n",
    "# Para ejecutar el servidor:\n",
    "# uvicorn main:app --reload"
   ]
  },
  {
   "cell_type": "code",
   "execution_count": null,
   "metadata": {},
   "outputs": [],
   "source": []
  }
 ],
 "metadata": {
  "kernelspec": {
   "display_name": "Python 3",
   "language": "python",
   "name": "python3"
  },
  "language_info": {
   "codemirror_mode": {
    "name": "ipython",
    "version": 3
   },
   "file_extension": ".py",
   "mimetype": "text/x-python",
   "name": "python",
   "nbconvert_exporter": "python",
   "pygments_lexer": "ipython3",
   "version": "3.11.5"
  }
 },
 "nbformat": 4,
 "nbformat_minor": 2
}
