{
 "cells": [
  {
   "cell_type": "markdown",
   "metadata": {},
   "source": [
    "\n",
    "---\n",
    "\n",
    "# API\n",
    "---\n"
   ]
  },
  {
   "cell_type": "code",
   "execution_count": 22,
   "metadata": {},
   "outputs": [
    {
     "name": "stderr",
     "output_type": "stream",
     "text": [
      "C:\\Users\\fede\\AppData\\Local\\Temp\\ipykernel_3000\\2001460970.py:4: DtypeWarning: Columns (1,4,36,37,38,39,40,41,42,43,44,53,54,55,56,57,58,59,60,61,62,63,64,65,66,67,68,69,77,78,79,80,81,82,83,84,85,86,87,88) have mixed types. Specify dtype option on import or set low_memory=False.\n",
      "  df = pd.read_csv(\"C:\\\\Users\\\\fede\\Desktop\\\\LABs 1\\\\Proyecto individual - Federico Piparo\\Proyecto\\\\transformados.csv\", delimiter=',', on_bad_lines='skip')\n"
     ]
    }
   ],
   "source": [
    "\n",
    "import pandas as pd\n",
    "\n",
    "# Intentar leer el archivo CSV con un delimitador específico y manejo de errores\n",
    "df = pd.read_csv(\"C:\\\\Users\\\\fede\\Desktop\\\\LABs 1\\\\Proyecto individual - Federico Piparo\\Proyecto\\\\transformados.csv\", delimiter=',', on_bad_lines='skip')\n"
   ]
  },
  {
   "cell_type": "code",
   "execution_count": 45,
   "metadata": {},
   "outputs": [
    {
     "name": "stdout",
     "output_type": "stream",
     "text": [
      "5912\n"
     ]
    }
   ],
   "source": [
    "\n",
    "'''def cantidad_filmaciones_mes( Mes ): Se ingresa un mes en idioma Español.\n",
    "Debe devolver la cantidad de películas que fueron estrenadas en el mes consultado en la totalidad del dataset.'''\n",
    "\n",
    "def cantidad_filmaciones_mes(mes):\n",
    "    # Diccionario para mapear los nombres de los meses en español a números de mes\n",
    "    meses = {\n",
    "        \"enero\": 1,\n",
    "        \"febrero\": 2,\n",
    "        \"marzo\": 3,\n",
    "        \"abril\": 4,\n",
    "        \"mayo\": 5,\n",
    "        \"junio\": 6,\n",
    "        \"julio\": 7,\n",
    "        \"agosto\": 8,\n",
    "        \"septiembre\": 9,\n",
    "        \"octubre\": 10,\n",
    "        \"noviembre\": 11,\n",
    "        \"diciembre\": 12\n",
    "    }\n",
    "    \n",
    "    # Convertir la columna 'release_date' a tipo datetime si no lo está ya\n",
    "    if df['release_date'].dtype == 'O':\n",
    "        df['release_date'] = pd.to_datetime(df['release_date'], errors='coerce')\n",
    "    \n",
    "    # Filtrar el DataFrame por el mes dado\n",
    "    mes_numero = meses.get(mes.lower())\n",
    "    if mes_numero is None:\n",
    "        return f\"Mes '{mes}' no es válido. Por favor ingresa un mes válido en español.\"\n",
    "\n",
    "    peliculas_mes = df[df['release_date'].dt.month == mes_numero]\n",
    "\n",
    "    # Devolver la cantidad de películas\n",
    "    return len(peliculas_mes)\n",
    "\n",
    "# Ejemplo de uso\n",
    "input(dia)\n",
    "print(cantidad_filmaciones_mes(\"dia\"))"
   ]
  },
  {
   "cell_type": "code",
   "execution_count": 1,
   "metadata": {},
   "outputs": [
    {
     "ename": "NameError",
     "evalue": "name 'dia' is not defined",
     "output_type": "error",
     "traceback": [
      "\u001b[1;31m---------------------------------------------------------------------------\u001b[0m",
      "\u001b[1;31mNameError\u001b[0m                                 Traceback (most recent call last)",
      "Cell \u001b[1;32mIn[1], line 33\u001b[0m\n\u001b[0;32m     31\u001b[0m     \u001b[38;5;66;03m# Devolver la cantidad de películas\u001b[39;00m\n\u001b[0;32m     32\u001b[0m     \u001b[38;5;28;01mreturn\u001b[39;00m \u001b[38;5;28mlen\u001b[39m(peliculas_dia)\n\u001b[1;32m---> 33\u001b[0m \u001b[38;5;28mprint\u001b[39m(\u001b[38;5;124m'\u001b[39m\u001b[38;5;124mcantidad de películas fueron estrenadas en el día\u001b[39m\u001b[38;5;124m'\u001b[39m, \u001b[43mdia\u001b[49m , cantidad_filmaciones_dia(\u001b[38;5;124m\"\u001b[39m\u001b[38;5;124mlunes\u001b[39m\u001b[38;5;124m\"\u001b[39m))\n\u001b[0;32m     34\u001b[0m \u001b[38;5;66;03m# Ejemplo de uso\u001b[39;00m\n",
      "\u001b[1;31mNameError\u001b[0m: name 'dia' is not defined"
     ]
    }
   ],
   "source": [
    "'''def cantidad_filmaciones_dia( Dia ): Se ingresa un día en idioma Español.\n",
    "Debe devolver la cantidad de películas que fueron estrenadas en día consultado en la totalidad del dataset.'''\n",
    "\n",
    "# Supongamos que tu DataFrame df ya está definido y contiene la columna 'release_date' en formato de cadena.\n",
    "\n",
    "def cantidad_filmaciones_dia():\n",
    "    \n",
    "    dia = input(\"Escribe un día: \")\n",
    "    # Diccionario para mapear los nombres de los días en español a números de día\n",
    "    dias = {\n",
    "        \"lunes\": 1,\n",
    "        \"martes\": 2,\n",
    "        \"miércoles\": 3,\n",
    "        \"jueves\": 4,\n",
    "        \"viernes\": 5,\n",
    "        \"sábado\": 6,\n",
    "        \"domingo\": 7\n",
    "    }\n",
    "    \n",
    "    # Convertir la columna 'release_date' a tipo datetime si no lo está ya\n",
    "    if df['release_date'].dtype == 'O':\n",
    "        df['release_date'] = pd.to_datetime(df['release_date'], errors='coerce')\n",
    "    \n",
    "    # Filtrar el DataFrame por el día dado\n",
    "    dia_numero = dias.get(dia.lower())\n",
    "    if dia_numero is None:\n",
    "        return f\"Día '{dia}' no es válido. Por favor ingresa un día válido en español.\"\n",
    "\n",
    "    peliculas_dia = df[df['release_date'].dt.dayofweek + 1 == dia_numero]\n",
    "    \n",
    "    print('cantidad de películas fueron estrenadas en el día', dia , cantidad_filmaciones_dia(\"lunes\"))\n",
    "\n",
    "    # Devolver la cantidad de películas\n",
    "    return len(peliculas_dia)\n",
    "# Ejemplo de uso\n",
    "\n"
   ]
  },
  {
   "cell_type": "code",
   "execution_count": null,
   "metadata": {},
   "outputs": [],
   "source": []
  }
 ],
 "metadata": {
  "kernelspec": {
   "display_name": "Python 3",
   "language": "python",
   "name": "python3"
  },
  "language_info": {
   "codemirror_mode": {
    "name": "ipython",
    "version": 3
   },
   "file_extension": ".py",
   "mimetype": "text/x-python",
   "name": "python",
   "nbconvert_exporter": "python",
   "pygments_lexer": "ipython3",
   "version": "3.11.5"
  }
 },
 "nbformat": 4,
 "nbformat_minor": 2
}
