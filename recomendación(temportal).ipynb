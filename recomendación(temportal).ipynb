{
 "cells": [
  {
   "cell_type": "code",
   "execution_count": 15,
   "metadata": {},
   "outputs": [],
   "source": [
    "import pandas as pd\n",
    "import numpy as np\n",
    "\n",
    "dftitulos = pd.read_parquet (\"C:\\\\Users\\\\fede\\\\Desktop\\\\LABs 1\\\\Proyecto individual - Federico Piparo\\\\Transformaciones\\\\df_titulos.parquet\")\n",
    "data = np.load('C:\\\\Users\\\\fede\\\\Desktop\\\\LABs 1\\\\Proyecto individual - Federico Piparo\\\\Transformaciones\\\\similitud_del_coseno.npy')"
   ]
  },
  {
   "cell_type": "code",
   "execution_count": 17,
   "metadata": {},
   "outputs": [
    {
     "name": "stdout",
     "output_type": "stream",
     "text": [
      "{'recommendations': ['Down to Earth', 'The Way We Laughed', 'Heartbreak Ridge', 'Men of Means', 'Sudden Manhattan']}\n"
     ]
    }
   ],
   "source": [
    "import pandas as pd\n",
    "import numpy as np\n",
    "\n",
    "# Cargar los datos\n",
    "dftitulos = pd.read_parquet(\"C:\\\\Users\\\\fede\\\\Desktop\\\\LABs 1\\\\Proyecto individual - Federico Piparo\\\\Transformaciones\\\\df_titulos.parquet\")\n",
    "data = np.load('C:\\\\Users\\\\fede\\\\Desktop\\\\LABs 1\\\\Proyecto individual - Federico Piparo\\\\Transformaciones\\\\similitud_del_coseno.npy')\n",
    "\n",
    "def recomendacion(title: str):\n",
    "    if title not in dftitulos['title'].values:\n",
    "        return {\"error\": \"Título no encontrado\"}\n",
    "    \n",
    "    idx = dftitulos[dftitulos['title'] == title].index[0]\n",
    "    sim_scores = list(enumerate(data[idx]))\n",
    "    sim_scores = sorted(sim_scores, key=lambda x: x[1], reverse=True)[1:6]\n",
    "    recommendations = [dftitulos.iloc[i[0]]['title'] for i in sim_scores]\n",
    "\n",
    "    return {\"recommendations\": recommendations}\n",
    "\n",
    "# Ejemplo de uso\n",
    "print(recomendacion('Toy Story'))\n"
   ]
  }
 ],
 "metadata": {
  "kernelspec": {
   "display_name": "Python 3",
   "language": "python",
   "name": "python3"
  },
  "language_info": {
   "codemirror_mode": {
    "name": "ipython",
    "version": 3
   },
   "file_extension": ".py",
   "mimetype": "text/x-python",
   "name": "python",
   "nbconvert_exporter": "python",
   "pygments_lexer": "ipython3",
   "version": "3.11.5"
  }
 },
 "nbformat": 4,
 "nbformat_minor": 2
}
